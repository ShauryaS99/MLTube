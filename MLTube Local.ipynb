{
 "cells": [
  {
   "cell_type": "code",
   "execution_count": 1,
   "metadata": {},
   "outputs": [],
   "source": [
    "from sklearn.feature_extraction.text import TfidfVectorizer\n",
    "from sklearn.svm import LinearSVC\n",
    "from sklearn.metrics import accuracy_score"
   ]
  },
  {
   "cell_type": "code",
   "execution_count": 2,
   "metadata": {},
   "outputs": [],
   "source": [
    "# Load our data into two Python lists\n",
    "with open(\"clickbait.txt\", \"r\", encoding=\"UTF-8\") as f:\n",
    "    lines = f.read().strip().split(\"\\n\")\n",
    "    lines = [line.split(\"\\t\") for line in lines]\n",
    "headlines, labels = zip(*lines)"
   ]
  },
  {
   "cell_type": "code",
   "execution_count": 3,
   "metadata": {},
   "outputs": [
    {
     "data": {
      "text/plain": [
       "(\"Egypt's top envoy in Iraq confirmed killed\",\n",
       " 'Carter: Race relations in Palestine are worse than apartheid',\n",
       " 'After Years Of Dutiful Service, The Shiba Who Ran A Tobacco Shop Retires',\n",
       " 'In Books on Two Powerbrokers, Hints of the Future',\n",
       " 'These Horrifyingly Satisfying Photos Of \"Baby Foot\" Will Haunt You')"
      ]
     },
     "execution_count": 3,
     "metadata": {},
     "output_type": "execute_result"
    }
   ],
   "source": [
    "headlines[:5]"
   ]
  },
  {
   "cell_type": "code",
   "execution_count": 4,
   "metadata": {},
   "outputs": [
    {
     "data": {
      "text/plain": [
       "('0', '0', '1', '0', '1')"
      ]
     },
     "execution_count": 4,
     "metadata": {},
     "output_type": "execute_result"
    }
   ],
   "source": [
    "labels[:5]"
   ]
  },
  {
   "cell_type": "code",
   "execution_count": 5,
   "metadata": {},
   "outputs": [
    {
     "data": {
      "text/plain": [
       "10000"
      ]
     },
     "execution_count": 5,
     "metadata": {},
     "output_type": "execute_result"
    }
   ],
   "source": [
    "len(headlines)"
   ]
  },
  {
   "cell_type": "code",
   "execution_count": 6,
   "metadata": {},
   "outputs": [],
   "source": [
    "# Break dataset into test and train sets\n",
    "train_headlines = headlines[:8000]\n",
    "test_headlines = headlines[8000:]\n",
    "\n",
    "train_labels = labels[:8000]\n",
    "test_labels = labels[8000:]"
   ]
  },
  {
   "cell_type": "code",
   "execution_count": 7,
   "metadata": {},
   "outputs": [],
   "source": [
    "# Create a vectorizer and classifier\n",
    "vectorizer = TfidfVectorizer()\n",
    "svm = LinearSVC()"
   ]
  },
  {
   "cell_type": "code",
   "execution_count": 8,
   "metadata": {},
   "outputs": [],
   "source": [
    "# Transform our text data into numerical vectors\n",
    "train_vectors = vectorizer.fit_transform(train_headlines)\n",
    "test_vectors = vectorizer.transform(test_headlines)"
   ]
  },
  {
   "cell_type": "code",
   "execution_count": 9,
   "metadata": {},
   "outputs": [
    {
     "data": {
      "text/plain": [
       "LinearSVC()"
      ]
     },
     "execution_count": 9,
     "metadata": {},
     "output_type": "execute_result"
    }
   ],
   "source": [
    "# Train the classifier and predict on test set\n",
    "svm.fit(train_vectors, train_labels)"
   ]
  },
  {
   "cell_type": "code",
   "execution_count": 10,
   "metadata": {},
   "outputs": [],
   "source": [
    "predictions = svm.predict(test_vectors)"
   ]
  },
  {
   "cell_type": "code",
   "execution_count": 11,
   "metadata": {},
   "outputs": [
    {
     "data": {
      "text/plain": [
       "('The Earliest I\\'ve Said \"I Love You\"',\n",
       " \"Stop What You're Doing And Worship These Matt Bomer Pictures\",\n",
       " '23 Of The Funniest \"Nancy Drew\" Game Memes',\n",
       " 'Policeman killed in football-related violence in Italy',\n",
       " 'Do You Remember Which Disney Star Sang These Lyrics')"
      ]
     },
     "execution_count": 11,
     "metadata": {},
     "output_type": "execute_result"
    }
   ],
   "source": [
    "test_headlines[0:5]"
   ]
  },
  {
   "cell_type": "code",
   "execution_count": 12,
   "metadata": {},
   "outputs": [
    {
     "data": {
      "text/plain": [
       "array(['1', '1', '1', '0', '1'], dtype='<U1')"
      ]
     },
     "execution_count": 12,
     "metadata": {},
     "output_type": "execute_result"
    }
   ],
   "source": [
    "predictions[:5]"
   ]
  },
  {
   "cell_type": "code",
   "execution_count": 13,
   "metadata": {},
   "outputs": [
    {
     "data": {
      "text/plain": [
       "('1', '1', '1', '0', '1')"
      ]
     },
     "execution_count": 13,
     "metadata": {},
     "output_type": "execute_result"
    }
   ],
   "source": [
    "test_labels[:5]"
   ]
  },
  {
   "cell_type": "code",
   "execution_count": 14,
   "metadata": {},
   "outputs": [
    {
     "data": {
      "text/plain": [
       "0.961"
      ]
     },
     "execution_count": 14,
     "metadata": {},
     "output_type": "execute_result"
    }
   ],
   "source": [
    "accuracy_score(test_labels, predictions)"
   ]
  },
  {
   "cell_type": "code",
   "execution_count": 15,
   "metadata": {},
   "outputs": [],
   "source": [
    "new_headlines = [\"10 Cities That Every Hipster Will Be Moving To Soon\", 'Vice President Mike Pence Leaves NFL Game Saying Players Showed \"Disrespect\" Of Anthem, Flag']\n",
    "new_vectors = vectorizer.transform(new_headlines)\n",
    "new_predictions = svm.predict(new_vectors)"
   ]
  },
  {
   "cell_type": "code",
   "execution_count": 16,
   "metadata": {},
   "outputs": [
    {
     "data": {
      "text/plain": [
       "array(['1', '0'], dtype='<U1')"
      ]
     },
     "execution_count": 16,
     "metadata": {},
     "output_type": "execute_result"
    }
   ],
   "source": [
    "new_predictions"
   ]
  },
  {
   "cell_type": "code",
   "execution_count": 17,
   "metadata": {},
   "outputs": [],
   "source": [
    "#!pip freeze"
   ]
  },
  {
   "cell_type": "code",
   "execution_count": 18,
   "metadata": {},
   "outputs": [],
   "source": [
    "new_headlines = [\"Trump kills People\", \"10 Things you need to know!\", \"Basketball team loses the NBA Finals\", \"Intro to Mobile Development\"]\n",
    "new_vectors = vectorizer.transform(new_headlines)\n",
    "new_predictions = svm.predict(new_vectors)"
   ]
  },
  {
   "cell_type": "code",
   "execution_count": 19,
   "metadata": {},
   "outputs": [
    {
     "data": {
      "text/plain": [
       "array(['1', '1', '0', '0'], dtype='<U1')"
      ]
     },
     "execution_count": 19,
     "metadata": {},
     "output_type": "execute_result"
    }
   ],
   "source": [
    "new_predictions"
   ]
  },
  {
   "cell_type": "code",
   "execution_count": 20,
   "metadata": {},
   "outputs": [],
   "source": [
    "new_headlines = [\"Biden\", \"Trump\"]\n",
    "new_vectors = vectorizer.transform(new_headlines)\n",
    "new_predictions = svm.predict(new_vectors)"
   ]
  },
  {
   "cell_type": "code",
   "execution_count": 21,
   "metadata": {},
   "outputs": [
    {
     "data": {
      "text/plain": [
       "array(['0', '1'], dtype='<U1')"
      ]
     },
     "execution_count": 21,
     "metadata": {},
     "output_type": "execute_result"
    }
   ],
   "source": [
    "new_predictions"
   ]
  },
  {
   "cell_type": "code",
   "execution_count": 22,
   "metadata": {},
   "outputs": [],
   "source": [
    "new_headlines = [\"I spent 1 trillion on Pokemon Cards\", \"This Mansion cost 1 billion DOLLARS!\"]\n",
    "new_vectors = vectorizer.transform(new_headlines)\n",
    "new_predictions = svm.predict(new_vectors)"
   ]
  },
  {
   "cell_type": "code",
   "execution_count": 23,
   "metadata": {},
   "outputs": [
    {
     "data": {
      "text/plain": [
       "array(['0', '0'], dtype='<U1')"
      ]
     },
     "execution_count": 23,
     "metadata": {},
     "output_type": "execute_result"
    }
   ],
   "source": [
    "new_predictions"
   ]
  },
  {
   "cell_type": "code",
   "execution_count": 24,
   "metadata": {},
   "outputs": [],
   "source": [
    "# import pickle\n",
    "# pickle.dump(svm, open(\"svm.pkl’, ‘wb’))\n",
    "# pickle.dump(vectorizer, open(‘vectorizer.pkl’, ‘wb’))"
   ]
  },
  {
   "cell_type": "code",
   "execution_count": 1,
   "metadata": {},
   "outputs": [],
   "source": [
    "import requests\n",
    "import json"
   ]
  },
  {
   "cell_type": "code",
   "execution_count": 2,
   "metadata": {},
   "outputs": [],
   "source": [
    "# !pip install requests"
   ]
  },
  {
   "cell_type": "code",
   "execution_count": 3,
   "metadata": {},
   "outputs": [],
   "source": [
    "# local url\n",
    "url = 'https://ml-tube.herokuapp.com/' # change to your url\n",
    "# sample data\n",
    "data = [\"Biden\", \"Trump\"]\n",
    "data = json.dumps(data)"
   ]
  },
  {
   "cell_type": "code",
   "execution_count": 4,
   "metadata": {},
   "outputs": [
    {
     "name": "stdout",
     "output_type": "stream",
     "text": [
      "<Response [200]>\n"
     ]
    }
   ],
   "source": [
    "send_request = requests.post(url, data)\n",
    "print(send_request)"
   ]
  },
  {
   "cell_type": "code",
   "execution_count": 2,
   "metadata": {},
   "outputs": [
    {
     "name": "stdout",
     "output_type": "stream",
     "text": [
      "argon2-cffi==20.1.0\n",
      "async-generator==1.10\n",
      "attrs==20.2.0\n",
      "backcall==0.2.0\n",
      "beautifulsoup4==4.9.3\n",
      "bleach==3.2.1\n",
      "certifi==2020.11.8\n",
      "cffi==1.14.3\n",
      "chardet==3.0.4\n",
      "click==7.1.2\n",
      "colorama==0.4.4\n",
      "decorator==4.4.2\n",
      "defusedxml==0.6.0\n",
      "entrypoints==0.3\n",
      "Flask==1.1.2\n",
      "idna==2.10\n",
      "ipykernel==5.3.4\n",
      "ipython==7.18.1\n",
      "ipython-genutils==0.2.0\n",
      "ipywidgets==7.5.1\n",
      "itsdangerous==1.1.0\n",
      "jedi==0.17.2\n",
      "Jinja2==2.11.2\n",
      "joblib==0.17.0\n",
      "jsonschema==3.2.0\n",
      "jupyter==1.0.0\n",
      "jupyter-client==6.1.7\n",
      "jupyter-console==6.2.0\n",
      "jupyter-core==4.6.3\n",
      "jupyterlab-pygments==0.1.2\n",
      "MarkupSafe==1.1.1\n",
      "mistune==0.8.4\n",
      "nbclient==0.5.1\n",
      "nbconvert==6.0.7\n",
      "nbformat==5.0.8\n",
      "nest-asyncio==1.4.1\n",
      "nltk==3.5\n",
      "notebook==6.1.4\n",
      "numpy==1.19.2\n",
      "packaging==20.4\n",
      "pandas==1.1.4\n",
      "pandocfilters==1.4.2\n",
      "parso==0.7.1\n",
      "pickleshare==0.7.5\n",
      "pip==20.2.3\n",
      "prometheus-client==0.8.0\n",
      "prompt-toolkit==3.0.8\n",
      "pycparser==2.20\n",
      "Pygments==2.7.1\n",
      "pyparsing==2.4.7\n",
      "pyrsistent==0.17.3\n",
      "python-dateutil==2.8.1\n",
      "pytz==2020.4\n",
      "pywin32==228\n",
      "pywinpty==0.5.7\n",
      "pyzmq==19.0.2\n",
      "qtconsole==4.7.7\n",
      "QtPy==1.9.0\n",
      "rake-nltk==1.0.4\n",
      "regex==2020.10.28\n",
      "requests==2.25.0\n",
      "scikit-learn==0.23.2\n",
      "scipy==1.5.3\n",
      "selenium==3.141.0\n",
      "Send2Trash==1.5.0\n",
      "setuptools==50.3.1\n",
      "six==1.15.0\n",
      "soupsieve==2.0.1\n",
      "terminado==0.9.1\n",
      "testpath==0.4.4\n",
      "threadpoolctl==2.1.0\n",
      "tornado==6.0.4\n",
      "tqdm==4.51.0\n",
      "traitlets==5.0.5\n",
      "urllib3==1.25.11\n",
      "wcwidth==0.2.5\n",
      "webencodings==0.5.1\n",
      "Werkzeug==1.0.1\n",
      "wheel==0.35.1\n",
      "widgetsnbextension==3.5.1\n"
     ]
    }
   ],
   "source": [
    "try:\n",
    "    from pip._internal.operations import freeze\n",
    "except ImportError:  # pip < 10.0\n",
    "    from pip.operations import freeze\n",
    "\n",
    "x = freeze.freeze()\n",
    "for p in x:\n",
    "    print(p)"
   ]
  },
  {
   "cell_type": "code",
   "execution_count": 6,
   "metadata": {},
   "outputs": [
    {
     "name": "stdout",
     "output_type": "stream",
     "text": [
      "{'results': {'new_predictions': ['0', '1']}}\n"
     ]
    }
   ],
   "source": [
    "print(send_request.json())"
   ]
  },
  {
   "cell_type": "code",
   "execution_count": 7,
   "metadata": {},
   "outputs": [
    {
     "data": {
      "text/plain": [
       "dict"
      ]
     },
     "execution_count": 7,
     "metadata": {},
     "output_type": "execute_result"
    }
   ],
   "source": [
    "type(send_request.json())"
   ]
  },
  {
   "cell_type": "code",
   "execution_count": null,
   "metadata": {},
   "outputs": [],
   "source": []
  }
 ],
 "metadata": {
  "kernelspec": {
   "display_name": "Python 3",
   "language": "python",
   "name": "python3"
  },
  "language_info": {
   "codemirror_mode": {
    "name": "ipython",
    "version": 3
   },
   "file_extension": ".py",
   "mimetype": "text/x-python",
   "name": "python",
   "nbconvert_exporter": "python",
   "pygments_lexer": "ipython3",
   "version": "3.8.2"
  }
 },
 "nbformat": 4,
 "nbformat_minor": 4
}
