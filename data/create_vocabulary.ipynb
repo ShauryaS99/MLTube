{
 "cells": [
  {
   "cell_type": "code",
   "execution_count": 58,
   "metadata": {},
   "outputs": [],
   "source": [
    "vocab_set = set()"
   ]
  },
  {
   "cell_type": "code",
   "execution_count": 59,
   "metadata": {},
   "outputs": [],
   "source": [
    "import re\n",
    "import string\n",
    "MATCH_MULTIPLE_SPACES = re.compile(\"\\ {2,}\")\n",
    "UNK = \"<UNK>\"\n",
    "PAD = \"<PAD>\"\n",
    "\n",
    "def clean(text):\n",
    "    #print(text)\n",
    "    text = text.lower()\n",
    "    for punctuation in string.punctuation:\n",
    "        text = text.replace(punctuation, \" \" + punctuation + \" \")\n",
    "    for punctuation in [\"“\", \"”\", \"’\", \"‘\"]:\n",
    "        text = text.replace(punctuation, \" \" + punctuation + \" \")\n",
    "#     for i in range(10):\n",
    "#         text = text.replace(str(i), \" \" + str(i) + \" \")\n",
    "    text = MATCH_MULTIPLE_SPACES.sub(\" \", text)\n",
    "    return \"\\n\".join(line.strip() for line in text.split(\"\\n\"))"
   ]
  },
  {
   "cell_type": "code",
   "execution_count": 60,
   "metadata": {},
   "outputs": [],
   "source": [
    "with open('clickbait_youtube_porn.txt','r') as file: \n",
    "    for line in file:  \n",
    "        for word in clean(line).lower().split():\n",
    "            vocab_set.add(word)"
   ]
  },
  {
   "cell_type": "code",
   "execution_count": 61,
   "metadata": {},
   "outputs": [],
   "source": [
    "with open('genuine_youtube_porn.txt','r') as file: \n",
    "    for line in file:         \n",
    "        for word in clean(line).lower().split():\n",
    "            vocab_set.add(word)"
   ]
  },
  {
   "cell_type": "code",
   "execution_count": 62,
   "metadata": {},
   "outputs": [],
   "source": [
    "with open(\"vocabulary_youtube_porn.txt\", \"w\") as f:\n",
    "    for item in [\"<UNK>\", \"<PAD>\"]:\n",
    "        f.write(item + \"\\n\")\n",
    "    for item in vocab_set:\n",
    "        f.write(item + \"\\n\")"
   ]
  },
  {
   "cell_type": "code",
   "execution_count": 44,
   "metadata": {},
   "outputs": [],
   "source": [
    "# with open('vocabulary.txt','r') as file: \n",
    "#     for line in file:         \n",
    "#         for word in line.split():  \n",
    "#             vocab_set.add(word)  "
   ]
  },
  {
   "cell_type": "code",
   "execution_count": null,
   "metadata": {},
   "outputs": [],
   "source": []
  }
 ],
 "metadata": {
  "kernelspec": {
   "display_name": "Python 3",
   "language": "python",
   "name": "python3"
  },
  "language_info": {
   "codemirror_mode": {
    "name": "ipython",
    "version": 3
   },
   "file_extension": ".py",
   "mimetype": "text/x-python",
   "name": "python",
   "nbconvert_exporter": "python",
   "pygments_lexer": "ipython3",
   "version": "3.8.5"
  }
 },
 "nbformat": 4,
 "nbformat_minor": 4
}
