{
 "cells": [
  {
   "cell_type": "markdown",
   "metadata": {},
   "source": [
    "# Word Extractor"
   ]
  },
  {
   "cell_type": "code",
   "execution_count": 1,
   "metadata": {},
   "outputs": [],
   "source": [
    "from rake_nltk import Rake"
   ]
  },
  {
   "cell_type": "code",
   "execution_count": 2,
   "metadata": {},
   "outputs": [],
   "source": [
    "r = Rake()\n",
    "mytext = 'Hello my name is Shaurya'\n",
    "r.extract_keywords_from_text(mytext)"
   ]
  },
  {
   "cell_type": "code",
   "execution_count": 3,
   "metadata": {},
   "outputs": [
    {
     "data": {
      "text/plain": [
       "['shaurya', 'name', 'hello']"
      ]
     },
     "execution_count": 3,
     "metadata": {},
     "output_type": "execute_result"
    }
   ],
   "source": [
    "r.get_ranked_phrases()"
   ]
  },
  {
   "cell_type": "code",
   "execution_count": 4,
   "metadata": {},
   "outputs": [
    {
     "data": {
      "text/plain": [
       "[(1.0, 'shaurya'), (1.0, 'name'), (1.0, 'hello')]"
      ]
     },
     "execution_count": 4,
     "metadata": {},
     "output_type": "execute_result"
    }
   ],
   "source": [
    "r.get_ranked_phrases_with_scores()"
   ]
  },
  {
   "cell_type": "code",
   "execution_count": 65,
   "metadata": {},
   "outputs": [],
   "source": [
    "newtext = \"Pokemon in WWE\"\n",
    "r.extract_keywords_from_text(newtext)"
   ]
  },
  {
   "cell_type": "code",
   "execution_count": 66,
   "metadata": {},
   "outputs": [
    {
     "data": {
      "text/plain": [
       "['wwe', 'pokemon']"
      ]
     },
     "execution_count": 66,
     "metadata": {},
     "output_type": "execute_result"
    }
   ],
   "source": [
    "r.get_ranked_phrases()"
   ]
  },
  {
   "cell_type": "code",
   "execution_count": 67,
   "metadata": {
    "scrolled": true
   },
   "outputs": [
    {
     "data": {
      "text/plain": [
       "[(1.0, 'wwe'), (1.0, 'pokemon')]"
      ]
     },
     "execution_count": 67,
     "metadata": {},
     "output_type": "execute_result"
    }
   ],
   "source": [
    "lst_scores = r.get_ranked_phrases_with_scores()\n",
    "lst_scores"
   ]
  },
  {
   "cell_type": "code",
   "execution_count": 68,
   "metadata": {},
   "outputs": [
    {
     "data": {
      "text/plain": [
       "['wwe', 'pokemon']"
      ]
     },
     "execution_count": 68,
     "metadata": {},
     "output_type": "execute_result"
    }
   ],
   "source": [
    "keywords = [x[1] for x in lst_scores]\n",
    "keywords"
   ]
  },
  {
   "cell_type": "markdown",
   "metadata": {},
   "source": [
    "# Web Scraper"
   ]
  },
  {
   "cell_type": "code",
   "execution_count": 28,
   "metadata": {},
   "outputs": [],
   "source": [
    "# from urllib.request import urlopen\n",
    "# from bs4 import BeautifulSoup"
   ]
  },
  {
   "cell_type": "code",
   "execution_count": 29,
   "metadata": {},
   "outputs": [],
   "source": [
    "# url = \"https://www.youtube.com/results?search_query=\"\n",
    "#keywords must be sepearted with + str.split(\" \") with + or smthg"
   ]
  },
  {
   "cell_type": "code",
   "execution_count": 30,
   "metadata": {},
   "outputs": [
    {
     "data": {
      "text/plain": [
       "'wwe'"
      ]
     },
     "execution_count": 30,
     "metadata": {},
     "output_type": "execute_result"
    }
   ],
   "source": [
    "# lst_keywords = keyword.split(\" \")\n",
    "# query = \"\"\n",
    "# for word in lst_keywords:\n",
    "#     query+=word + \"+\"\n",
    "# query = query[:-1]\n",
    "# url+=query\n",
    "# query"
   ]
  },
  {
   "cell_type": "code",
   "execution_count": 31,
   "metadata": {},
   "outputs": [],
   "source": [
    "# !pip install selenium\n",
    "#uninstall beautifulsoup"
   ]
  },
  {
   "cell_type": "code",
   "execution_count": 69,
   "metadata": {},
   "outputs": [],
   "source": [
    "from selenium import webdriver\n",
    "from selenium.webdriver.chrome.options import Options\n",
    "from selenium.common.exceptions import NoSuchElementException\n",
    "# chrome_options = Options()\n",
    "# chrome_options.add_argument(\"--headless\")\n",
    "# chrome_options.add_argument(\"--disable-gpu\");\n",
    "# driver = webdriver.Chrome(executable_path='C:\\webdrivers\\chromedriver.exe', options=chrome_options)"
   ]
  },
  {
   "cell_type": "code",
   "execution_count": 33,
   "metadata": {},
   "outputs": [
    {
     "name": "stdout",
     "output_type": "stream",
     "text": [
      "194K views\n",
      "1\n",
      "65K views\n",
      "2\n",
      "Scheduled for 11/22/20, 4:00 PM\n"
     ]
    },
    {
     "ename": "NoSuchElementException",
     "evalue": "Message: no such element: Unable to locate element: {\"method\":\"xpath\",\"selector\":\"/html/body/ytd-app/div/ytd-page-manager/ytd-search/div[1]/ytd-two-column-search-results-renderer/div/ytd-section-list-renderer/div[2]/ytd-item-section-renderer/div[3]/ytd-video-renderer[3]/div[1]/div/div[1]/ytd-video-meta-block/div[1]/div[2]/span[2]\"}\n  (Session info: headless chrome=86.0.4240.198)\n",
     "output_type": "error",
     "traceback": [
      "\u001b[1;31m---------------------------------------------------------------------------\u001b[0m",
      "\u001b[1;31mNoSuchElementException\u001b[0m                    Traceback (most recent call last)",
      "\u001b[1;32m<ipython-input-33-6d9070521d25>\u001b[0m in \u001b[0;36m<module>\u001b[1;34m\u001b[0m\n\u001b[0;32m     11\u001b[0m     \u001b[1;32mif\u001b[0m \u001b[1;34m\"watching\"\u001b[0m \u001b[1;32mnot\u001b[0m \u001b[1;32min\u001b[0m \u001b[0mcurr_views\u001b[0m\u001b[1;33m:\u001b[0m\u001b[1;33m\u001b[0m\u001b[1;33m\u001b[0m\u001b[0m\n\u001b[0;32m     12\u001b[0m         \u001b[0mdates_xpath\u001b[0m \u001b[1;33m=\u001b[0m \u001b[1;34m\"/html/body/ytd-app/div/ytd-page-manager/ytd-search/div[1]/ytd-two-column-search-results-renderer/div/ytd-section-list-renderer/div[2]/ytd-item-section-renderer/div[3]/ytd-video-renderer[{}]/div[1]/div/div[1]/ytd-video-meta-block/div[1]/div[2]/span[2]\"\u001b[0m\u001b[1;33m.\u001b[0m\u001b[0mformat\u001b[0m\u001b[1;33m(\u001b[0m\u001b[0mi\u001b[0m\u001b[1;33m)\u001b[0m\u001b[1;33m\u001b[0m\u001b[1;33m\u001b[0m\u001b[0m\n\u001b[1;32m---> 13\u001b[1;33m         \u001b[0mcurr_dates\u001b[0m \u001b[1;33m=\u001b[0m \u001b[0mdriver\u001b[0m\u001b[1;33m.\u001b[0m\u001b[0mfind_element_by_xpath\u001b[0m\u001b[1;33m(\u001b[0m\u001b[0mdates_xpath\u001b[0m\u001b[1;33m)\u001b[0m\u001b[1;33m.\u001b[0m\u001b[0mtext\u001b[0m\u001b[1;33m\u001b[0m\u001b[1;33m\u001b[0m\u001b[0m\n\u001b[0m\u001b[0;32m     14\u001b[0m         \u001b[0mlst_dates\u001b[0m\u001b[1;33m.\u001b[0m\u001b[0mappend\u001b[0m\u001b[1;33m(\u001b[0m\u001b[0mcurr_dates\u001b[0m\u001b[1;33m)\u001b[0m\u001b[1;33m\u001b[0m\u001b[1;33m\u001b[0m\u001b[0m\n\u001b[0;32m     15\u001b[0m         \u001b[0mlst_views\u001b[0m\u001b[1;33m.\u001b[0m\u001b[0mappend\u001b[0m\u001b[1;33m(\u001b[0m\u001b[0mcurr_views\u001b[0m\u001b[1;33m)\u001b[0m\u001b[1;33m\u001b[0m\u001b[1;33m\u001b[0m\u001b[0m\n",
      "\u001b[1;32mc:\\users\\shaurya\\onedrive\\scratch\\clickbait\\clickbait-env\\lib\\site-packages\\selenium\\webdriver\\remote\\webdriver.py\u001b[0m in \u001b[0;36mfind_element_by_xpath\u001b[1;34m(self, xpath)\u001b[0m\n\u001b[0;32m    392\u001b[0m             \u001b[0melement\u001b[0m \u001b[1;33m=\u001b[0m \u001b[0mdriver\u001b[0m\u001b[1;33m.\u001b[0m\u001b[0mfind_element_by_xpath\u001b[0m\u001b[1;33m(\u001b[0m\u001b[1;34m'//div/td[1]'\u001b[0m\u001b[1;33m)\u001b[0m\u001b[1;33m\u001b[0m\u001b[1;33m\u001b[0m\u001b[0m\n\u001b[0;32m    393\u001b[0m         \"\"\"\n\u001b[1;32m--> 394\u001b[1;33m         \u001b[1;32mreturn\u001b[0m \u001b[0mself\u001b[0m\u001b[1;33m.\u001b[0m\u001b[0mfind_element\u001b[0m\u001b[1;33m(\u001b[0m\u001b[0mby\u001b[0m\u001b[1;33m=\u001b[0m\u001b[0mBy\u001b[0m\u001b[1;33m.\u001b[0m\u001b[0mXPATH\u001b[0m\u001b[1;33m,\u001b[0m \u001b[0mvalue\u001b[0m\u001b[1;33m=\u001b[0m\u001b[0mxpath\u001b[0m\u001b[1;33m)\u001b[0m\u001b[1;33m\u001b[0m\u001b[1;33m\u001b[0m\u001b[0m\n\u001b[0m\u001b[0;32m    395\u001b[0m \u001b[1;33m\u001b[0m\u001b[0m\n\u001b[0;32m    396\u001b[0m     \u001b[1;32mdef\u001b[0m \u001b[0mfind_elements_by_xpath\u001b[0m\u001b[1;33m(\u001b[0m\u001b[0mself\u001b[0m\u001b[1;33m,\u001b[0m \u001b[0mxpath\u001b[0m\u001b[1;33m)\u001b[0m\u001b[1;33m:\u001b[0m\u001b[1;33m\u001b[0m\u001b[1;33m\u001b[0m\u001b[0m\n",
      "\u001b[1;32mc:\\users\\shaurya\\onedrive\\scratch\\clickbait\\clickbait-env\\lib\\site-packages\\selenium\\webdriver\\remote\\webdriver.py\u001b[0m in \u001b[0;36mfind_element\u001b[1;34m(self, by, value)\u001b[0m\n\u001b[0;32m    974\u001b[0m                 \u001b[0mby\u001b[0m \u001b[1;33m=\u001b[0m \u001b[0mBy\u001b[0m\u001b[1;33m.\u001b[0m\u001b[0mCSS_SELECTOR\u001b[0m\u001b[1;33m\u001b[0m\u001b[1;33m\u001b[0m\u001b[0m\n\u001b[0;32m    975\u001b[0m                 \u001b[0mvalue\u001b[0m \u001b[1;33m=\u001b[0m \u001b[1;34m'[name=\"%s\"]'\u001b[0m \u001b[1;33m%\u001b[0m \u001b[0mvalue\u001b[0m\u001b[1;33m\u001b[0m\u001b[1;33m\u001b[0m\u001b[0m\n\u001b[1;32m--> 976\u001b[1;33m         return self.execute(Command.FIND_ELEMENT, {\n\u001b[0m\u001b[0;32m    977\u001b[0m             \u001b[1;34m'using'\u001b[0m\u001b[1;33m:\u001b[0m \u001b[0mby\u001b[0m\u001b[1;33m,\u001b[0m\u001b[1;33m\u001b[0m\u001b[1;33m\u001b[0m\u001b[0m\n\u001b[0;32m    978\u001b[0m             'value': value})['value']\n",
      "\u001b[1;32mc:\\users\\shaurya\\onedrive\\scratch\\clickbait\\clickbait-env\\lib\\site-packages\\selenium\\webdriver\\remote\\webdriver.py\u001b[0m in \u001b[0;36mexecute\u001b[1;34m(self, driver_command, params)\u001b[0m\n\u001b[0;32m    319\u001b[0m         \u001b[0mresponse\u001b[0m \u001b[1;33m=\u001b[0m \u001b[0mself\u001b[0m\u001b[1;33m.\u001b[0m\u001b[0mcommand_executor\u001b[0m\u001b[1;33m.\u001b[0m\u001b[0mexecute\u001b[0m\u001b[1;33m(\u001b[0m\u001b[0mdriver_command\u001b[0m\u001b[1;33m,\u001b[0m \u001b[0mparams\u001b[0m\u001b[1;33m)\u001b[0m\u001b[1;33m\u001b[0m\u001b[1;33m\u001b[0m\u001b[0m\n\u001b[0;32m    320\u001b[0m         \u001b[1;32mif\u001b[0m \u001b[0mresponse\u001b[0m\u001b[1;33m:\u001b[0m\u001b[1;33m\u001b[0m\u001b[1;33m\u001b[0m\u001b[0m\n\u001b[1;32m--> 321\u001b[1;33m             \u001b[0mself\u001b[0m\u001b[1;33m.\u001b[0m\u001b[0merror_handler\u001b[0m\u001b[1;33m.\u001b[0m\u001b[0mcheck_response\u001b[0m\u001b[1;33m(\u001b[0m\u001b[0mresponse\u001b[0m\u001b[1;33m)\u001b[0m\u001b[1;33m\u001b[0m\u001b[1;33m\u001b[0m\u001b[0m\n\u001b[0m\u001b[0;32m    322\u001b[0m             response['value'] = self._unwrap_value(\n\u001b[0;32m    323\u001b[0m                 response.get('value', None))\n",
      "\u001b[1;32mc:\\users\\shaurya\\onedrive\\scratch\\clickbait\\clickbait-env\\lib\\site-packages\\selenium\\webdriver\\remote\\errorhandler.py\u001b[0m in \u001b[0;36mcheck_response\u001b[1;34m(self, response)\u001b[0m\n\u001b[0;32m    240\u001b[0m                 \u001b[0malert_text\u001b[0m \u001b[1;33m=\u001b[0m \u001b[0mvalue\u001b[0m\u001b[1;33m[\u001b[0m\u001b[1;34m'alert'\u001b[0m\u001b[1;33m]\u001b[0m\u001b[1;33m.\u001b[0m\u001b[0mget\u001b[0m\u001b[1;33m(\u001b[0m\u001b[1;34m'text'\u001b[0m\u001b[1;33m)\u001b[0m\u001b[1;33m\u001b[0m\u001b[1;33m\u001b[0m\u001b[0m\n\u001b[0;32m    241\u001b[0m             \u001b[1;32mraise\u001b[0m \u001b[0mexception_class\u001b[0m\u001b[1;33m(\u001b[0m\u001b[0mmessage\u001b[0m\u001b[1;33m,\u001b[0m \u001b[0mscreen\u001b[0m\u001b[1;33m,\u001b[0m \u001b[0mstacktrace\u001b[0m\u001b[1;33m,\u001b[0m \u001b[0malert_text\u001b[0m\u001b[1;33m)\u001b[0m\u001b[1;33m\u001b[0m\u001b[1;33m\u001b[0m\u001b[0m\n\u001b[1;32m--> 242\u001b[1;33m         \u001b[1;32mraise\u001b[0m \u001b[0mexception_class\u001b[0m\u001b[1;33m(\u001b[0m\u001b[0mmessage\u001b[0m\u001b[1;33m,\u001b[0m \u001b[0mscreen\u001b[0m\u001b[1;33m,\u001b[0m \u001b[0mstacktrace\u001b[0m\u001b[1;33m)\u001b[0m\u001b[1;33m\u001b[0m\u001b[1;33m\u001b[0m\u001b[0m\n\u001b[0m\u001b[0;32m    243\u001b[0m \u001b[1;33m\u001b[0m\u001b[0m\n\u001b[0;32m    244\u001b[0m     \u001b[1;32mdef\u001b[0m \u001b[0m_value_or_default\u001b[0m\u001b[1;33m(\u001b[0m\u001b[0mself\u001b[0m\u001b[1;33m,\u001b[0m \u001b[0mobj\u001b[0m\u001b[1;33m,\u001b[0m \u001b[0mkey\u001b[0m\u001b[1;33m,\u001b[0m \u001b[0mdefault\u001b[0m\u001b[1;33m)\u001b[0m\u001b[1;33m:\u001b[0m\u001b[1;33m\u001b[0m\u001b[1;33m\u001b[0m\u001b[0m\n",
      "\u001b[1;31mNoSuchElementException\u001b[0m: Message: no such element: Unable to locate element: {\"method\":\"xpath\",\"selector\":\"/html/body/ytd-app/div/ytd-page-manager/ytd-search/div[1]/ytd-two-column-search-results-renderer/div/ytd-section-list-renderer/div[2]/ytd-item-section-renderer/div[3]/ytd-video-renderer[3]/div[1]/div/div[1]/ytd-video-meta-block/div[1]/div[2]/span[2]\"}\n  (Session info: headless chrome=86.0.4240.198)\n"
     ]
    }
   ],
   "source": [
    "# driver.get(url)\n",
    "# livestreams = False\n",
    "# lst_views = []\n",
    "# lst_dates = []\n",
    "# decay_rate = 0.35\n",
    "# counter = 0\n",
    "# for i in range(1, 10):\n",
    "#     xpath = \"/html/body/ytd-app/div/ytd-page-manager/ytd-search/div[1]/ytd-two-column-search-results-renderer/div/ytd-section-list-renderer/div[2]/ytd-item-section-renderer/div[3]/ytd-video-renderer[{}]/div[1]/div/div[1]/ytd-video-meta-block/div[1]/div[2]/span[1]\".format(i)\n",
    "#     curr_views = driver.find_element_by_xpath(xpath).text\n",
    "#     print(curr_views)\n",
    "#     if \"watching\" not in curr_views:\n",
    "#         dates_xpath = \"/html/body/ytd-app/div/ytd-page-manager/ytd-search/div[1]/ytd-two-column-search-results-renderer/div/ytd-section-list-renderer/div[2]/ytd-item-section-renderer/div[3]/ytd-video-renderer[{}]/div[1]/div/div[1]/ytd-video-meta-block/div[1]/div[2]/span[2]\".format(i)\n",
    "#         curr_dates = driver.find_element_by_xpath(dates_xpath).text\n",
    "#         lst_dates.append(curr_dates)\n",
    "#         lst_views.append(curr_views)\n",
    "#         counter+=1\n",
    "#         print(counter)\n",
    "#     else:\n",
    "#         livestreams = True\n",
    "#         continue\n",
    "#     if counter >=5:\n",
    "#         break\n",
    "# lst_views"
   ]
  },
  {
   "cell_type": "code",
   "execution_count": 15,
   "metadata": {},
   "outputs": [],
   "source": [
    "# # total_views = sum(lst_)\n",
    "# def convert_str_to_number(views):\n",
    "#     x = views.split(\" \")[0]\n",
    "#     number = 0\n",
    "#     num_map = {'K':1000, 'M':1000000, 'B':1000000000}\n",
    "#     if x.isdigit():\n",
    "#         number = int(x)\n",
    "#     else:\n",
    "#         if len(x) > 1:\n",
    "#             number = float(x[:-1]) * num_map.get(x[-1].upper())\n",
    "#     return int(number)\n",
    "\n",
    "# # total_views = sum(lst_)\n",
    "# def convert_str_to_date(date):\n",
    "#     x = date.split(\" \")\n",
    "#     time_period = x[1]\n",
    "#     if \"month\" in time_period:\n",
    "#         return int(x[0]) * 1.0\n",
    "#     elif \"year\" in time_period:\n",
    "#         return int(x[0]) * 12.0\n",
    "#     else:\n",
    "#         return int(x[0]) / 100.0\n",
    "\n",
    "    \n",
    "# def adjust(lst_dates, lst_views, decay_rate):\n",
    "#     adjusted_dates = []\n",
    "#     for date in lst_dates:\n",
    "#         adjusted_dates.append(convert_str_to_date(date))\n",
    "#     adjusted_views = []\n",
    "#     print(adjusted_dates)\n",
    "#     print(lst_views)\n",
    "#     for i in range(3):            \n",
    "#         int_view = convert_str_to_number(lst_views[i]) \n",
    "#         if adjusted_dates[i] < 1:\n",
    "#             hours = adjusted_dates[i] * 100\n",
    "#             views_at_time = int_view\n",
    "#             rate = views_at_time / hours\n",
    "#             adj_view = 24 * rate\n",
    "#         else:\n",
    "#             adj_view = int_view * (decay_rate**adjusted_dates[i])\n",
    "#         adjusted_views.append(adj_view)\n",
    "#     return adjusted_views"
   ]
  },
  {
   "cell_type": "code",
   "execution_count": 16,
   "metadata": {},
   "outputs": [
    {
     "data": {
      "text/plain": [
       "True"
      ]
     },
     "execution_count": 16,
     "metadata": {},
     "output_type": "execute_result"
    }
   ],
   "source": [
    "# total_views = 0\n",
    "# new_views = []\n",
    "# for view in lst_views:\n",
    "#     total_views+= convert_str_to_number(view)\n",
    "#     new_views.append(convert_str_to_number(view))\n",
    "# total_views\n",
    "# livestreams"
   ]
  },
  {
   "cell_type": "code",
   "execution_count": 17,
   "metadata": {},
   "outputs": [
    {
     "name": "stdout",
     "output_type": "stream",
     "text": [
      "[0.01, 0.06, 0.09, 0.13, 0.1]\n",
      "['84K views', '369K views', '492K views', '1.2M views', '97K views']\n"
     ]
    }
   ],
   "source": [
    "\n",
    "# adjusted_views = adjust(lst_dates, lst_views, decay_rate)"
   ]
  },
  {
   "cell_type": "code",
   "execution_count": 18,
   "metadata": {},
   "outputs": [
    {
     "data": {
      "text/plain": [
       "4804000.0"
      ]
     },
     "execution_count": 18,
     "metadata": {},
     "output_type": "execute_result"
    }
   ],
   "source": [
    "# sum(adjusted_views)"
   ]
  },
  {
   "cell_type": "code",
   "execution_count": 19,
   "metadata": {},
   "outputs": [
    {
     "data": {
      "text/plain": [
       "'Popular'"
      ]
     },
     "execution_count": 19,
     "metadata": {},
     "output_type": "execute_result"
    }
   ],
   "source": [
    "# def judgement(tot_views):\n",
    "#     if tot_views < 10000:\n",
    "#         return \"Irrelevant\"\n",
    "#     elif tot_views < 100000:\n",
    "#         return \"Niche\"\n",
    "#     elif tot_views < 1000000:\n",
    "#         return \"Relevant\"\n",
    "#     else:\n",
    "#         return \"Popular\"\n",
    "    \n",
    "# judgement(sum(adjusted_views))\n",
    "    "
   ]
  },
  {
   "cell_type": "code",
   "execution_count": 70,
   "metadata": {},
   "outputs": [],
   "source": [
    "class Relevancy_Scraper:\n",
    "    url = \"https://www.youtube.com/results?search_query=\"\n",
    "    def __init__(self, keyword, driver):\n",
    "        self.keyword = keyword\n",
    "        self.driver = driver\n",
    "        self.livestream = False\n",
    "        self.lst_views = []\n",
    "        self.lst_dates = []\n",
    "    def modify_url(self):\n",
    "        lst_keywords = self.keyword.split(\" \")\n",
    "        query = \"\"\n",
    "        for word in lst_keywords:\n",
    "            query+=word + \"+\"\n",
    "        query = query[:-1]\n",
    "        Relevancy_Scraper.url+=query\n",
    "    def scrape(self):\n",
    "        self.driver.get(Relevancy_Scraper.url)\n",
    "        lst_views = []\n",
    "        lst_dates = []\n",
    "        counter = 0\n",
    "        for i in range(1, 10):\n",
    "            try:\n",
    "                xpath = \"/html/body/ytd-app/div/ytd-page-manager/ytd-search/div[1]/ytd-two-column-search-results-renderer/div/ytd-section-list-renderer/div[2]/ytd-item-section-renderer/div[3]/ytd-video-renderer[{}]/div[1]/div/div[1]/ytd-video-meta-block/div[1]/div[2]/span[1]\".format(i)\n",
    "                curr_views = self.driver.find_element_by_xpath(xpath).text\n",
    "                print(curr_views)\n",
    "                if \"watching\" not in curr_views:\n",
    "                    dates_xpath = \"/html/body/ytd-app/div/ytd-page-manager/ytd-search/div[1]/ytd-two-column-search-results-renderer/div/ytd-section-list-renderer/div[2]/ytd-item-section-renderer/div[3]/ytd-video-renderer[{}]/div[1]/div/div[1]/ytd-video-meta-block/div[1]/div[2]/span[2]\".format(i)\n",
    "                    curr_dates = self.driver.find_element_by_xpath(dates_xpath).text\n",
    "                    lst_dates.append(curr_dates)\n",
    "                    lst_views.append(curr_views)\n",
    "                    counter+=1\n",
    "                    print(counter)\n",
    "                else:\n",
    "                    self.livestream = True\n",
    "                    continue\n",
    "                if counter >=5:\n",
    "                    break\n",
    "            except NoSuchElementException:\n",
    "                pass\n",
    "        self.lst_views = lst_views\n",
    "        self.lst_dates  = lst_dates\n",
    "    \n",
    "    # total_views = sum(lst_)\n",
    "    def convert_str_to_number(self, views):\n",
    "        x = views.split(\" \")[0]\n",
    "        number = 0\n",
    "        num_map = {'K':1000, 'M':1000000, 'B':1000000000}\n",
    "        if x.isdigit():\n",
    "            number = int(x)\n",
    "        else:\n",
    "            if len(x) > 1:\n",
    "                number = float(x[:-1]) * num_map.get(x[-1].upper())\n",
    "        return int(number)\n",
    "\n",
    "    # total_views = sum(lst_)\n",
    "    def convert_str_to_date(self, date):\n",
    "        x = date.split(\" \")\n",
    "        time_period = x[1]\n",
    "        if \"month\" in time_period:\n",
    "            return int(x[0]) * 1.0\n",
    "        elif \"year\" in time_period:\n",
    "            return int(x[0]) * 12.0\n",
    "        else:\n",
    "            return int(x[0]) / 100.0\n",
    "\n",
    "\n",
    "    def adjust(self, lst_dates, lst_views):\n",
    "        decay_rate = 0.35\n",
    "        adjusted_dates = []\n",
    "        for date in lst_dates:\n",
    "            adjusted_dates.append(convert_str_to_date(date))\n",
    "        adjusted_views = []\n",
    "        print(adjusted_dates)\n",
    "        print(lst_views)\n",
    "        for i in range(3):            \n",
    "            int_view = convert_str_to_number(lst_views[i]) \n",
    "            if adjusted_dates[i] < 1:\n",
    "                hours = adjusted_dates[i] * 100\n",
    "                views_at_time = int_view\n",
    "                rate = views_at_time / hours\n",
    "                adj_view = 24 * rate\n",
    "            else:\n",
    "                adj_view = int_view * (decay_rate**adjusted_dates[i])\n",
    "            adjusted_views.append(adj_view)\n",
    "        return adjusted_views\n",
    "    \n",
    "    def judgement(self, tot_views):\n",
    "        if tot_views < 10000:\n",
    "            return \"Irrelevant\"\n",
    "        elif tot_views < 100000:\n",
    "            return \"Niche\"\n",
    "        elif tot_views < 1000000:\n",
    "            return \"Relevant\"\n",
    "        else:\n",
    "            return \"Popular\"\n",
    "    \n",
    "    def get_adj_views(self):\n",
    "        self.modify_url()\n",
    "        self.scrape()\n",
    "        adjusted_views = self.adjust(self.lst_dates, self.lst_views)\n",
    "        return sum(adjusted_views)"
   ]
  },
  {
   "cell_type": "code",
   "execution_count": 71,
   "metadata": {},
   "outputs": [
    {
     "name": "stdout",
     "output_type": "stream",
     "text": [
      "194K views\n",
      "1\n",
      "167K views\n",
      "2\n",
      "Scheduled for 11/22/20, 4:00 PM\n",
      "1.7M views\n",
      "3\n",
      "395K views\n",
      "4\n",
      "39K views\n",
      "5\n",
      "[0.09, 0.08, 0.01, 0.15, 0.01]\n",
      "['194K views', '167K views', '1.7M views', '395K views', '39K views']\n",
      "finished p1\n",
      "20M views\n",
      "1\n",
      "103K views\n",
      "2\n",
      "18M views\n",
      "3\n",
      "8.4M views\n",
      "4\n",
      "14K views\n",
      "5\n",
      "[12.0, 36.0, 24.0, 24.0, 36.0]\n",
      "['20M views', '103K views', '18M views', '8.4M views', '14K views']\n",
      "14K views\n",
      "1\n",
      "25K views\n",
      "2\n",
      "235K views\n",
      "3\n",
      "419 views\n",
      "4\n",
      "4.1K views\n",
      "5\n",
      "[36.0, 60.0, 0.03, 7.0, 24.0]\n",
      "['14K views', '25K views', '235K views', '419 views', '4.1K views']\n",
      "finished all\n"
     ]
    }
   ],
   "source": [
    "chrome_options = Options()\n",
    "chrome_options.add_argument(\"--headless\")\n",
    "chrome_options.add_argument(\"--disable-gpu\");\n",
    "driver = webdriver.Chrome(executable_path='C:\\webdrivers\\chromedriver.exe', options=chrome_options)\n",
    "\n",
    "p1 = Relevancy_Scraper(keywords[0], driver)\n",
    "p1_tot_views = p1.get_adj_views()\n",
    "p1_livestream = p1.livestream\n",
    "p1_relevancy = p1.judgement(p1_tot_views)\n",
    "print(\"finished p1\")\n",
    "if len(keywords) > 1:\n",
    "    p2 = Relevancy_Scraper(keywords[1], driver)\n",
    "    p2_tot_views = p2.get_adj_views()\n",
    "    p2_livestream = p2.livestream\n",
    "    p2_relevancy = p2.judgement(p2_tot_views)\n",
    "    tot_keywords = keywords[0] + \" \" + keywords[1]\n",
    "    p3 = Relevancy_Scraper(tot_keywords, driver)\n",
    "    p3_tot_views = p3.get_adj_views()\n",
    "    p3_livestream = p3.livestream\n",
    "    p3_relevancy = p3.judgement(p3_tot_views)\n",
    "driver.quit()\n",
    "print(\"finished all\")"
   ]
  },
  {
   "cell_type": "code",
   "execution_count": 72,
   "metadata": {},
   "outputs": [
    {
     "data": {
      "text/plain": [
       "'wwe'"
      ]
     },
     "metadata": {},
     "output_type": "display_data"
    },
    {
     "data": {
      "text/plain": [
       "41818333.333333336"
      ]
     },
     "metadata": {},
     "output_type": "display_data"
    },
    {
     "data": {
      "text/plain": [
       "False"
      ]
     },
     "metadata": {},
     "output_type": "display_data"
    },
    {
     "data": {
      "text/plain": [
       "'Popular'"
      ]
     },
     "metadata": {},
     "output_type": "display_data"
    }
   ],
   "source": [
    "display(p1.keyword, p1_tot_views, p1_livestream, p1_relevancy)"
   ]
  },
  {
   "cell_type": "code",
   "execution_count": 73,
   "metadata": {},
   "outputs": [
    {
     "data": {
      "text/plain": [
       "'pokemon'"
      ]
     },
     "metadata": {},
     "output_type": "display_data"
    },
    {
     "data": {
      "text/plain": [
       "67.5846157054991"
      ]
     },
     "metadata": {},
     "output_type": "display_data"
    },
    {
     "data": {
      "text/plain": [
       "False"
      ]
     },
     "metadata": {},
     "output_type": "display_data"
    },
    {
     "data": {
      "text/plain": [
       "'Irrelevant'"
      ]
     },
     "metadata": {},
     "output_type": "display_data"
    }
   ],
   "source": [
    "display(p2.keyword, p2_tot_views, p2_livestream, p2_relevancy)"
   ]
  },
  {
   "cell_type": "code",
   "execution_count": 74,
   "metadata": {},
   "outputs": [
    {
     "data": {
      "text/plain": [
       "'wwepokemon'"
      ]
     },
     "metadata": {},
     "output_type": "display_data"
    },
    {
     "data": {
      "text/plain": [
       "1880000.0"
      ]
     },
     "metadata": {},
     "output_type": "display_data"
    },
    {
     "data": {
      "text/plain": [
       "False"
      ]
     },
     "metadata": {},
     "output_type": "display_data"
    },
    {
     "data": {
      "text/plain": [
       "'Popular'"
      ]
     },
     "metadata": {},
     "output_type": "display_data"
    }
   ],
   "source": [
    "display(p3.keyword, p3_tot_views, p3_livestream, p3_relevancy)"
   ]
  },
  {
   "cell_type": "code",
   "execution_count": null,
   "metadata": {},
   "outputs": [],
   "source": []
  }
 ],
 "metadata": {
  "kernelspec": {
   "display_name": "Python 3",
   "language": "python",
   "name": "python3"
  },
  "language_info": {
   "codemirror_mode": {
    "name": "ipython",
    "version": 3
   },
   "file_extension": ".py",
   "mimetype": "text/x-python",
   "name": "python",
   "nbconvert_exporter": "python",
   "pygments_lexer": "ipython3",
   "version": "3.8.2"
  }
 },
 "nbformat": 4,
 "nbformat_minor": 4
}
