{
 "cells": [
  {
   "cell_type": "markdown",
   "metadata": {},
   "source": [
    "# Word Extractor"
   ]
  },
  {
   "cell_type": "code",
   "execution_count": 1,
   "metadata": {},
   "outputs": [],
   "source": [
    "from rake_nltk import Rake"
   ]
  },
  {
   "cell_type": "code",
   "execution_count": 2,
   "metadata": {},
   "outputs": [],
   "source": [
    "r = Rake()\n",
    "mytext = 'Hello my name is Shaurya'\n",
    "r.extract_keywords_from_text(mytext)"
   ]
  },
  {
   "cell_type": "code",
   "execution_count": 3,
   "metadata": {},
   "outputs": [
    {
     "data": {
      "text/plain": [
       "[(1.0, 'shaurya'), (1.0, 'name'), (1.0, 'hello')]"
      ]
     },
     "execution_count": 3,
     "metadata": {},
     "output_type": "execute_result"
    }
   ],
   "source": [
    "# r.get_ranked_phrases()\n",
    "r.get_ranked_phrases_with_scores()"
   ]
  },
  {
   "cell_type": "code",
   "execution_count": 4,
   "metadata": {},
   "outputs": [
    {
     "data": {
      "text/plain": [
       "[(1.0, 'shaurya'), (1.0, 'name'), (1.0, 'hello')]"
      ]
     },
     "execution_count": 4,
     "metadata": {},
     "output_type": "execute_result"
    }
   ],
   "source": [
    "r.get_ranked_phrases_with_scores()"
   ]
  },
  {
   "cell_type": "code",
   "execution_count": 5,
   "metadata": {},
   "outputs": [],
   "source": [
    "newtext = \"Pokemon in the WWE\"\n",
    "r.extract_keywords_from_text(newtext)"
   ]
  },
  {
   "cell_type": "code",
   "execution_count": 6,
   "metadata": {},
   "outputs": [
    {
     "data": {
      "text/plain": [
       "['wwe', 'pokemon']"
      ]
     },
     "execution_count": 6,
     "metadata": {},
     "output_type": "execute_result"
    }
   ],
   "source": [
    "r.get_ranked_phrases()"
   ]
  },
  {
   "cell_type": "code",
   "execution_count": 7,
   "metadata": {
    "scrolled": true
   },
   "outputs": [
    {
     "data": {
      "text/plain": [
       "[(1.0, 'wwe'), (1.0, 'pokemon')]"
      ]
     },
     "execution_count": 7,
     "metadata": {},
     "output_type": "execute_result"
    }
   ],
   "source": [
    "lst_scores = r.get_ranked_phrases_with_scores()\n",
    "lst_scores"
   ]
  },
  {
   "cell_type": "code",
   "execution_count": 8,
   "metadata": {},
   "outputs": [
    {
     "data": {
      "text/plain": [
       "['wwe', 'pokemon']"
      ]
     },
     "execution_count": 8,
     "metadata": {},
     "output_type": "execute_result"
    }
   ],
   "source": [
    "keywords = [x[1] for x in lst_scores]\n",
    "keywords"
   ]
  },
  {
   "cell_type": "markdown",
   "metadata": {},
   "source": [
    "# Web Scraper"
   ]
  },
  {
   "cell_type": "code",
   "execution_count": 9,
   "metadata": {},
   "outputs": [],
   "source": [
    "# from urllib.request import urlopen\n",
    "# from bs4 import BeautifulSoup"
   ]
  },
  {
   "cell_type": "code",
   "execution_count": 10,
   "metadata": {},
   "outputs": [],
   "source": [
    "# url = \"https://www.youtube.com/results?search_query=\"\n",
    "#keywords must be sepearted with + str.split(\" \") with + or smthg"
   ]
  },
  {
   "cell_type": "code",
   "execution_count": 11,
   "metadata": {},
   "outputs": [],
   "source": [
    "# lst_keywords = keyword.split(\" \")\n",
    "# query = \"\"\n",
    "# for word in lst_keywords:\n",
    "#     query+=word + \"+\"\n",
    "# query = query[:-1]\n",
    "# url+=query\n",
    "# query"
   ]
  },
  {
   "cell_type": "code",
   "execution_count": 12,
   "metadata": {},
   "outputs": [],
   "source": [
    "# !pip install selenium\n",
    "#uninstall beautifulsoup"
   ]
  },
  {
   "cell_type": "code",
   "execution_count": 13,
   "metadata": {},
   "outputs": [],
   "source": [
    "# from selenium import webdriver\n",
    "# from selenium.webdriver.chrome.options import Options\n",
    "# from selenium.common.exceptions import NoSuchElementException\n",
    "# GOOGLE_CHROME_PATH = '/ml-tube/.apt/usr/bin/google_chrome'\n",
    "# CHROMEDRIVER_PATH = '/ml-tube/.chromedriver/bin/chromedriver'\n",
    "# chrome_options = Options()\n",
    "# chrome_options.add_argument(\"--headless\")\n",
    "# chrome_options.add_argument(\"--disable-gpu\");\n",
    "# driver = webdriver.Chrome(executable_path='C:\\webdrivers\\chromedriver.exe', options=chrome_options)"
   ]
  },
  {
   "cell_type": "code",
   "execution_count": 14,
   "metadata": {},
   "outputs": [],
   "source": [
    "# driver.get(url)\n",
    "# livestreams = False\n",
    "# lst_views = []\n",
    "# lst_dates = []\n",
    "# decay_rate = 0.35\n",
    "# counter = 0\n",
    "# for i in range(1, 10):\n",
    "#     xpath = \"/html/body/ytd-app/div/ytd-page-manager/ytd-search/div[1]/ytd-two-column-search-results-renderer/div/ytd-section-list-renderer/div[2]/ytd-item-section-renderer/div[3]/ytd-video-renderer[{}]/div[1]/div/div[1]/ytd-video-meta-block/div[1]/div[2]/span[1]\".format(i)\n",
    "#     curr_views = driver.find_element_by_xpath(xpath).text\n",
    "#     print(curr_views)\n",
    "#     if \"watching\" not in curr_views:\n",
    "#         dates_xpath = \"/html/body/ytd-app/div/ytd-page-manager/ytd-search/div[1]/ytd-two-column-search-results-renderer/div/ytd-section-list-renderer/div[2]/ytd-item-section-renderer/div[3]/ytd-video-renderer[{}]/div[1]/div/div[1]/ytd-video-meta-block/div[1]/div[2]/span[2]\".format(i)\n",
    "#         curr_dates = driver.find_element_by_xpath(dates_xpath).text\n",
    "#         lst_dates.append(curr_dates)\n",
    "#         lst_views.append(curr_views)\n",
    "#         counter+=1\n",
    "#         print(counter)\n",
    "#     else:\n",
    "#         livestreams = True\n",
    "#         continue\n",
    "#     if counter >=5:\n",
    "#         break\n",
    "# lst_views"
   ]
  },
  {
   "cell_type": "code",
   "execution_count": 15,
   "metadata": {},
   "outputs": [],
   "source": [
    "# # total_views = sum(lst_)\n",
    "# def convert_str_to_number(views):\n",
    "#     x = views.split(\" \")[0]\n",
    "#     number = 0\n",
    "#     num_map = {'K':1000, 'M':1000000, 'B':1000000000}\n",
    "#     if x.isdigit():\n",
    "#         number = int(x)\n",
    "#     else:\n",
    "#         if len(x) > 1:\n",
    "#             number = float(x[:-1]) * num_map.get(x[-1].upper())\n",
    "#     return int(number)\n",
    "\n",
    "# # total_views = sum(lst_)\n",
    "# def convert_str_to_date(date):\n",
    "#     x = date.split(\" \")\n",
    "#     time_period = x[1]\n",
    "#     if \"month\" in time_period:\n",
    "#         return int(x[0]) * 1.0\n",
    "#     elif \"year\" in time_period:\n",
    "#         return int(x[0]) * 12.0\n",
    "#     else:\n",
    "#         return int(x[0]) / 100.0\n",
    "\n",
    "    \n",
    "# def adjust(lst_dates, lst_views, decay_rate):\n",
    "#     adjusted_dates = []\n",
    "#     for date in lst_dates:\n",
    "#         adjusted_dates.append(convert_str_to_date(date))\n",
    "#     adjusted_views = []\n",
    "#     print(adjusted_dates)\n",
    "#     print(lst_views)\n",
    "#     for i in range(3):            \n",
    "#         int_view = convert_str_to_number(lst_views[i]) \n",
    "#         if adjusted_dates[i] < 1:\n",
    "#             hours = adjusted_dates[i] * 100\n",
    "#             views_at_time = int_view\n",
    "#             rate = views_at_time / hours\n",
    "#             adj_view = 24 * rate\n",
    "#         else:\n",
    "#             adj_view = int_view * (decay_rate**adjusted_dates[i])\n",
    "#         adjusted_views.append(adj_view)\n",
    "#     return adjusted_views"
   ]
  },
  {
   "cell_type": "code",
   "execution_count": 16,
   "metadata": {},
   "outputs": [],
   "source": [
    "# total_views = 0\n",
    "# new_views = []\n",
    "# for view in lst_views:\n",
    "#     total_views+= convert_str_to_number(view)\n",
    "#     new_views.append(convert_str_to_number(view))\n",
    "# total_views\n",
    "# livestreams"
   ]
  },
  {
   "cell_type": "code",
   "execution_count": 17,
   "metadata": {},
   "outputs": [],
   "source": [
    "\n",
    "# adjusted_views = adjust(lst_dates, lst_views, decay_rate)"
   ]
  },
  {
   "cell_type": "code",
   "execution_count": 18,
   "metadata": {},
   "outputs": [],
   "source": [
    "# sum(adjusted_views)"
   ]
  },
  {
   "cell_type": "code",
   "execution_count": 19,
   "metadata": {},
   "outputs": [],
   "source": [
    "# def judgement(tot_views):\n",
    "#     if tot_views < 10000:\n",
    "#         return \"Irrelevant\"\n",
    "#     elif tot_views < 100000:\n",
    "#         return \"Niche\"\n",
    "#     elif tot_views < 1000000:\n",
    "#         return \"Relevant\"\n",
    "#     else:\n",
    "#         return \"Popular\"\n",
    "    \n",
    "# judgement(sum(adjusted_views))\n",
    "from selenium import webdriver\n",
    "from selenium.webdriver.chrome.options import Options\n",
    "from selenium.common.exceptions import NoSuchElementException\n",
    "from selenium.webdriver.support.ui import WebDriverWait\n",
    "from selenium.webdriver.common.by import By\n",
    "from selenium.webdriver.support import expected_conditions as EC\n",
    "import time\n",
    "GOOGLE_CHROME_PATH = '/ml-tube/.apt/usr/bin/google_chrome'\n",
    "CHROMEDRIVER_PATH = '/ml-tube/.chromedriver/bin/chromedriver'"
   ]
  },
  {
   "cell_type": "code",
   "execution_count": 20,
   "metadata": {},
   "outputs": [],
   "source": [
    "class Relevancy_Scraper:\n",
    "    def __init__(self, keyword):\n",
    "        chrome_options = Options()\n",
    "        chrome_options.add_argument('--headless')\n",
    "        chrome_options.add_argument(\"--disable-gpu\")\n",
    "        chrome_options.add_argument('--no-sandbox')\n",
    "        driver = webdriver.Chrome(executable_path='C:\\webdrivers\\chromedriver.exe', options=chrome_options)\n",
    "        self.url = \"https://www.youtube.com/results?search_query=\"\n",
    "        self.keyword = keyword\n",
    "        self.driver = driver\n",
    "        self.livestream = False\n",
    "        self.lst_views = []\n",
    "        self.lst_dates = []\n",
    "    def modify_url(self):\n",
    "        lst_keywords = self.keyword.split(\" \")\n",
    "        query = \"\"\n",
    "        for word in lst_keywords:\n",
    "            query+=word + \"+\"\n",
    "        query = query[:-1]\n",
    "        self.url+=query\n",
    "        print(\"query is\" + query)\n",
    "        print(\"keywords are: \")\n",
    "        print(lst_keywords)\n",
    "    def scrape(self):\n",
    "        self.driver.get(self.url)\n",
    "        filtered = False\n",
    "        lst_views = []\n",
    "        lst_dates = []\n",
    "        counter = 0\n",
    "        filter_btn = \"/html/body/ytd-app/div/ytd-page-manager/ytd-search/div[1]/ytd-two-column-search-results-renderer/div/ytd-section-list-renderer/div[1]/div[2]/ytd-search-sub-menu-renderer/div[1]/div/ytd-toggle-button-renderer/a\"\n",
    "        WebDriverWait(self.driver, 10).until(EC.element_to_be_clickable((By.XPATH, filter_btn))).click()\n",
    "        filter_month = \"/html/body/ytd-app/div/ytd-page-manager/ytd-search/div[1]/ytd-two-column-search-results-renderer/div/ytd-section-list-renderer/div[1]/div[2]/ytd-search-sub-menu-renderer/div[1]/iron-collapse/div/ytd-search-filter-group-renderer[1]/ytd-search-filter-renderer[4]/a\"\n",
    "        WebDriverWait(self.driver, 5).until(EC.element_to_be_clickable((By.XPATH, filter_month))).click()\n",
    "        time.sleep(3)\n",
    "        for i in range(1, 10):\n",
    "            try:\n",
    "                xpath = \"/html/body/ytd-app/div/ytd-page-manager/ytd-search/div[1]/ytd-two-column-search-results-renderer/div/ytd-section-list-renderer/div[2]/ytd-item-section-renderer/div[3]/ytd-video-renderer[{}]/div[1]/div/div[1]/ytd-video-meta-block/div[1]/div[2]/span[1]\".format(i)\n",
    "                curr_views = self.driver.find_element_by_xpath(xpath).text\n",
    "                print(curr_views)\n",
    "                if \"watching\" not in curr_views:\n",
    "                    dates_xpath = \"/html/body/ytd-app/div/ytd-page-manager/ytd-search/div[1]/ytd-two-column-search-results-renderer/div/ytd-section-list-renderer/div[2]/ytd-item-section-renderer/div[3]/ytd-video-renderer[{}]/div[1]/div/div[1]/ytd-video-meta-block/div[1]/div[2]/span[2]\".format(i)\n",
    "                    curr_dates = self.driver.find_element_by_xpath(dates_xpath).text\n",
    "                    lst_dates.append(curr_dates)\n",
    "                    lst_views.append(curr_views)\n",
    "                    counter+=1\n",
    "                    print(counter)\n",
    "                else:\n",
    "                    self.livestream = True\n",
    "                    continue\n",
    "                if counter >=5:\n",
    "                    break\n",
    "            except NoSuchElementException:\n",
    "                pass\n",
    "        self.lst_views = lst_views\n",
    "        self.lst_dates  = lst_dates\n",
    "    def is_clicked(self):\n",
    "        \n",
    "        print(\"Clicked it\")\n",
    "        return True\n",
    "    # total_views = sum(lst_)\n",
    "    def convert_str_to_number(self, views):\n",
    "        x = views.split(\" \")[0]\n",
    "        number = 0\n",
    "        num_map = {'K':1000, 'M':1000000, 'B':1000000000}\n",
    "        if x.isdigit():\n",
    "            number = int(x)\n",
    "        else:\n",
    "            if len(x) > 1:\n",
    "                number = float(x[:-1]) * num_map.get(x[-1].upper())\n",
    "        return int(number)\n",
    "\n",
    "    # total_views = sum(lst_)\n",
    "    def convert_str_to_date(self, date):\n",
    "        x = date.split(\" \")\n",
    "        time_period = x[1]\n",
    "        if \"month\" in time_period:\n",
    "            return int(x[0]) * 1.0\n",
    "        elif \"year\" in time_period:\n",
    "            return int(x[0]) * 12.0\n",
    "        else:\n",
    "            return int(x[0]) / 100.0\n",
    "\n",
    "\n",
    "    def adjust(self, lst_dates, lst_views):\n",
    "        decay_rate = 0.35\n",
    "        adjusted_dates = []\n",
    "        for date in lst_dates:\n",
    "            adjusted_dates.append(self.convert_str_to_date(date))\n",
    "        adjusted_views = []\n",
    "        print(adjusted_dates)\n",
    "        print(lst_views)\n",
    "        for i in range(3):            \n",
    "            int_view = self.convert_str_to_number(lst_views[i]) \n",
    "            if adjusted_dates[i] < 1:\n",
    "                hours = adjusted_dates[i] * 100\n",
    "                views_at_time = int_view\n",
    "                rate = views_at_time / hours\n",
    "                adj_view = 24 * rate\n",
    "            else:\n",
    "                adj_view = int_view * (decay_rate**adjusted_dates[i])\n",
    "            adjusted_views.append(adj_view)\n",
    "        return adjusted_views\n",
    "    \n",
    "    def judgement(self, tot_views):\n",
    "        if tot_views < 10000:\n",
    "            return \"Irrelevant\"\n",
    "        elif tot_views < 100000:\n",
    "            return \"Niche\"\n",
    "        elif tot_views < 1000000:\n",
    "            return \"Relevant\"\n",
    "        else:\n",
    "            return \"Popular\"\n",
    "    \n",
    "    def get_adj_views(self):\n",
    "        self.modify_url()\n",
    "        self.scrape()\n",
    "        adjusted_views = self.adjust(self.lst_dates, self.lst_views)\n",
    "        sum_views = sum(adjusted_views)\n",
    "        return round(sum_views, 2)\n",
    "    \n",
    "    def close(self):\n",
    "        self.driver.quit()\n",
    "        \n",
    "    def to_string(self, total_views):\n",
    "        livestream = \"\" if self.livestream else \"not \"\n",
    "        relevancy = self.judgement(total_views)\n",
    "        keyword = self.keyword\n",
    "        result = f\"The topic {keyword} has been classified as {relevancy} with about {total_views} views. There are {livestream}livestreams on this topic.\"\n",
    "        return result"
   ]
  },
  {
   "cell_type": "code",
   "execution_count": 21,
   "metadata": {},
   "outputs": [
    {
     "data": {
      "text/plain": [
       "['wwe', 'pokemon']"
      ]
     },
     "execution_count": 21,
     "metadata": {},
     "output_type": "execute_result"
    }
   ],
   "source": [
    "keywords"
   ]
  },
  {
   "cell_type": "code",
   "execution_count": 22,
   "metadata": {},
   "outputs": [
    {
     "name": "stdout",
     "output_type": "stream",
     "text": [
      "query iswwe+pokemon\n",
      "keywords are: \n",
      "['wwe', 'pokemon']\n",
      "2.6K views\n",
      "1\n",
      "45K views\n",
      "2\n",
      "26K views\n",
      "3\n",
      "18K views\n",
      "4\n",
      "54K views\n",
      "5\n",
      "[0.04, 0.04, 0.03, 0.01, 0.04]\n",
      "['2.6K views', '45K views', '26K views', '18K views', '54K views']\n",
      "The topic wwe pokemon has been classified as Relevant with about 493600.0 views. There are not livestreams on this topic.\n",
      "finished all\n"
     ]
    }
   ],
   "source": [
    "\n",
    "# chrome_options = Options()\n",
    "# chrome_options.add_argument(\"--headless\")\n",
    "# chrome_options.add_argument(\"--disable-gpu\");\n",
    "# driver = webdriver.Chrome(executable_path='C:\\webdrivers\\chromedriver.exe', options=chrome_options)\n",
    "\n",
    "# chrome_options = Options()\n",
    "# chrome_options.add_argument('--disable-gpu')\n",
    "# chrome_options.add_argument('--no-sandbox')\n",
    "# chrome_options.binary_location = GOOGLE_CHROME_PATH\n",
    "# driver = webdriver.Chrome(execution_path=CHROMEDRIVER_PATH, chrome_options=chrome_options)\n",
    "\n",
    "# p1 = Relevancy_Scraper(keywords[0])\n",
    "# p1_tot_views = p1.get_adj_views()\n",
    "# p1.close()\n",
    "# result = p1.to_string(p1_tot_views)\n",
    "# print(result)\n",
    "# print(\"finished p1\")\n",
    "if len(keywords) > 1:\n",
    "#     p2 = Relevancy_Scraper(keywords[1])\n",
    "#     p2_tot_views = p2.get_adj_views()\n",
    "#     p2.close()\n",
    "#     result2 = p2.to_string(p2_tot_views)\n",
    "#     print(result2)\n",
    "    tot_keywords = keywords[0] + \" \" + keywords[1]\n",
    "    p3 = Relevancy_Scraper(tot_keywords)\n",
    "    p3_tot_views = p3.get_adj_views()\n",
    "#     p3.close()\n",
    "    result3 = p3.to_string(p3_tot_views)\n",
    "    print(result3)\n",
    "print(\"finished all\")"
   ]
  },
  {
   "cell_type": "code",
   "execution_count": 25,
   "metadata": {},
   "outputs": [
    {
     "name": "stdout",
     "output_type": "stream",
     "text": [
      "The topic pokemon has been classified as Irrelevant with about 0.0 views. There are not livestreams on this topic.\n"
     ]
    }
   ],
   "source": [
    "print(p2.to_string(p2_tot_views))"
   ]
  },
  {
   "cell_type": "code",
   "execution_count": 73,
   "metadata": {},
   "outputs": [
    {
     "data": {
      "text/plain": [
       "'pokemon'"
      ]
     },
     "metadata": {},
     "output_type": "display_data"
    },
    {
     "data": {
      "text/plain": [
       "67.5846157054991"
      ]
     },
     "metadata": {},
     "output_type": "display_data"
    },
    {
     "data": {
      "text/plain": [
       "False"
      ]
     },
     "metadata": {},
     "output_type": "display_data"
    },
    {
     "data": {
      "text/plain": [
       "'Irrelevant'"
      ]
     },
     "metadata": {},
     "output_type": "display_data"
    }
   ],
   "source": [
    "display(p2.keyword, p2_tot_views, p2_livestream, p2_relevancy)"
   ]
  },
  {
   "cell_type": "code",
   "execution_count": 74,
   "metadata": {},
   "outputs": [
    {
     "data": {
      "text/plain": [
       "'wwepokemon'"
      ]
     },
     "metadata": {},
     "output_type": "display_data"
    },
    {
     "data": {
      "text/plain": [
       "1880000.0"
      ]
     },
     "metadata": {},
     "output_type": "display_data"
    },
    {
     "data": {
      "text/plain": [
       "False"
      ]
     },
     "metadata": {},
     "output_type": "display_data"
    },
    {
     "data": {
      "text/plain": [
       "'Popular'"
      ]
     },
     "metadata": {},
     "output_type": "display_data"
    }
   ],
   "source": [
    "display(p3.keyword, p3_tot_views, p3_livestream, p3_relevancy)"
   ]
  },
  {
   "cell_type": "code",
   "execution_count": 33,
   "metadata": {},
   "outputs": [],
   "source": [
    "class Extract:\n",
    "    def __init__(self, title):\n",
    "        self.title = title\n",
    "    def extract_keywords(self):\n",
    "        r = Rake()\n",
    "        r.extract_keywords_from_text(self.title)\n",
    "        lst_scores = r.get_ranked_phrases_with_scores()\n",
    "        keywords = [x[1] for x in lst_scores]\n",
    "        return keywords"
   ]
  },
  {
   "cell_type": "code",
   "execution_count": 37,
   "metadata": {},
   "outputs": [
    {
     "data": {
      "text/plain": [
       "['wwe', 'pokemon']"
      ]
     },
     "execution_count": 37,
     "metadata": {},
     "output_type": "execute_result"
    }
   ],
   "source": [
    "los = \"The Pokemon do WWE\"\n",
    "blah = Extract(los)\n",
    "keys = blah.extract_keywords()\n",
    "keys"
   ]
  },
  {
   "cell_type": "code",
   "execution_count": 48,
   "metadata": {},
   "outputs": [
    {
     "data": {
      "text/plain": [
       "'Shrey is \\n gay'"
      ]
     },
     "execution_count": 48,
     "metadata": {},
     "output_type": "execute_result"
    }
   ],
   "source": [
    "opp = \"Shrey is \\n gay\"\n",
    "opp"
   ]
  },
  {
   "cell_type": "code",
   "execution_count": null,
   "metadata": {},
   "outputs": [],
   "source": []
  }
 ],
 "metadata": {
  "kernelspec": {
   "display_name": "Python 3",
   "language": "python",
   "name": "python3"
  },
  "language_info": {
   "codemirror_mode": {
    "name": "ipython",
    "version": 3
   },
   "file_extension": ".py",
   "mimetype": "text/x-python",
   "name": "python",
   "nbconvert_exporter": "python",
   "pygments_lexer": "ipython3",
   "version": "3.8.2"
  }
 },
 "nbformat": 4,
 "nbformat_minor": 4
}
